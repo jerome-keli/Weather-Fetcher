{
  "nbformat": 4,
  "nbformat_minor": 0,
  "metadata": {
    "colab": {
      "provenance": []
    },
    "kernelspec": {
      "name": "python3",
      "display_name": "Python 3"
    },
    "language_info": {
      "name": "python"
    }
  },
  "cells": [
    {
      "cell_type": "markdown",
      "source": [
        "## Fetch Weather Information Using OpenWeatherMap API\n",
        "This Python script fetches current weather details for a specified location using the OpenWeatherMap API. It prompts the user to enter a zip code, makes an API request and displays relevant weather information.\n",
        "\n",
        "\n",
        "*   Dependencies:\n",
        ">- requests library for making HTTP requests.\n",
        "\n",
        "\n",
        "*  API Usage:\n",
        ">- OpenWeatherMap API key required for authentication.\n",
        "\n",
        "*  Usage:\n",
        ">- Replace 'YOUR_API_KEY' with a valid OpenWeatherMap API key.\n",
        ">- Enter the desired zip code when prompted.\n",
        ">- It displays current temperature, weather description, humidity and wind speed.\n",
        "\n",
        "*  Note:\n",
        ">- Customize 'units' parameter in the API request for temperature units (metric for Celsius, imperial for Fahrenheit).\n",
        ">- Ensure a stable internet connection for successful API requests.\n",
        "\n",
        "* Author:\n",
        ">- Jerome Acolatse\n",
        "\n",
        "\n"
      ],
      "metadata": {
        "id": "YYAq4if0f56w"
      }
    },
    {
      "cell_type": "code",
      "execution_count": null,
      "metadata": {
        "colab": {
          "base_uri": "https://localhost:8080/"
        },
        "id": "Lpr1X8AXVHIj",
        "outputId": "7349254d-3854-479f-8181-cca12767d5b6"
      },
      "outputs": [
        {
          "output_type": "stream",
          "name": "stdout",
          "text": [
            "Weather in Berlin, DE:\n",
            "Temperature: 9.28°C\n",
            "Description: few clouds\n",
            "Humidity: 93%\n",
            "Wind Speed: 4.63 m/s\n"
          ]
        }
      ],
      "source": [
        "import requests\n",
        "\n",
        "def get_weather(api_key, zip_code):\n",
        "    base_url = \"http://api.openweathermap.org/data/2.5/weather\"\n",
        "\n",
        "    # Creating parameters for the API request\n",
        "    params = {\n",
        "        'zip': f'{zip_code},de',  #You can change 'de' to the appropriate country code\n",
        "        'appid': api_key,\n",
        "        'units': 'metric'  # Use 'imperial' for Fahrenheit\n",
        "    }\n",
        "\n",
        "    try:\n",
        "        # Making the API request\n",
        "        response = requests.get(base_url, params=params)\n",
        "        data = response.json()\n",
        "\n",
        "        # Check if the request was successful\n",
        "        if response.status_code == 200:  #200 means it is okay\n",
        "            # Print relevant weather information\n",
        "            print(f\"Weather in {data['name']}, {data['sys']['country']}:\")\n",
        "            print(f\"Temperature: {data['main']['temp']}°C\")\n",
        "            print(f\"Description: {data['weather'][0]['description']}\")\n",
        "            print(f\"Humidity: {data['main']['humidity']}%\")\n",
        "            print(f\"Wind Speed: {data['wind']['speed']} m/s\")\n",
        "        else:\n",
        "            print(f\"Error: {data['message']}\")\n",
        "\n",
        "    except Exception as e:\n",
        "        print(f\"An error occurred: {e}\")\n",
        "\n",
        "#the API key you obtain\n",
        "api_key = 'YOUR_API_KEY'\n",
        "\n",
        "# Your desired zip code\n",
        "zip_code = 'YOUR_DESIRED_ZIP_CODE'\n",
        "\n",
        "get_weather(api_key, zip_code)\n"
      ]
    },
    {
      "cell_type": "code",
      "source": [],
      "metadata": {
        "id": "nr9Evm3wZeQ1"
      },
      "execution_count": null,
      "outputs": []
    }
  ]
}